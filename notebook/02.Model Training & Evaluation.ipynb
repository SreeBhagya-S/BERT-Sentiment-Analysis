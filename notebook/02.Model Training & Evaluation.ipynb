{
  "nbformat": 4,
  "nbformat_minor": 0,
  "metadata": {
    "colab": {
      "name": "02.Model Training & Evaluation.ipynb",
      "provenance": [],
      "collapsed_sections": []
    },
    "kernelspec": {
      "name": "python3",
      "display_name": "Python 3"
    },
    "accelerator": "GPU"
  },
  "cells": [
    {
      "cell_type": "code",
      "metadata": {
        "id": "yv2GRC4fGsPl"
      },
      "source": [
        "!unzip BERT-Sentiment-Analysis.zip -d '.'"
      ],
      "execution_count": 1,
      "outputs": []
    },
    {
      "cell_type": "code",
      "metadata": {
        "id": "f9lBoWCfIBGj",
        "outputId": "0577d724-a503-4dbf-94ea-b67f4bc134f9",
        "colab": {
          "base_uri": "https://localhost:8080/",
          "height": 33
        }
      },
      "source": [
        "cd BERT-Sentiment-Analysis"
      ],
      "execution_count": 2,
      "outputs": [
        {
          "output_type": "stream",
          "text": [
            "/content/BERT-Sentiment-Analysis\n"
          ],
          "name": "stdout"
        }
      ]
    },
    {
      "cell_type": "code",
      "metadata": {
        "id": "gOaQ4FCvILU8",
        "outputId": "52c2190b-8c57-4e2b-9238-067b68ee7b88",
        "colab": {
          "base_uri": "https://localhost:8080/",
          "height": 82
        }
      },
      "source": [
        "ls"
      ],
      "execution_count": 3,
      "outputs": [
        {
          "output_type": "stream",
          "text": [
            "cm.py          LICENSE           \u001b[0m\u001b[01;34m__pycache__\u001b[0m/  test_sentiment.py\n",
            "\u001b[01;34mdata\u001b[0m/          \u001b[01;34mnotebook\u001b[0m/         README.md     test_utility.py\n",
            "dataset.py     \u001b[01;34moutput\u001b[0m/           sentiment.py  utility.py\n",
            "evaluation.py  preprocessing.py  \u001b[01;34mshared\u001b[0m/       visualization.py\n"
          ],
          "name": "stdout"
        }
      ]
    },
    {
      "cell_type": "code",
      "metadata": {
        "id": "TdIYIflxITkn"
      },
      "source": [
        "# install required libraries\n",
        "# transformers\n",
        "# torch\n",
        "# sklearn\n",
        "# seaborn"
      ],
      "execution_count": 4,
      "outputs": []
    },
    {
      "cell_type": "code",
      "metadata": {
        "id": "kE_Jd2NnIbeP",
        "outputId": "53fc3f9a-88f8-4133-ad15-bda17374fd95",
        "colab": {
          "base_uri": "https://localhost:8080/",
          "height": 358
        }
      },
      "source": [
        "!pip3 install transformers"
      ],
      "execution_count": 5,
      "outputs": [
        {
          "output_type": "stream",
          "text": [
            "Requirement already satisfied: transformers in /usr/local/lib/python3.6/dist-packages (3.4.0)\n",
            "Requirement already satisfied: dataclasses; python_version < \"3.7\" in /usr/local/lib/python3.6/dist-packages (from transformers) (0.7)\n",
            "Requirement already satisfied: sacremoses in /usr/local/lib/python3.6/dist-packages (from transformers) (0.0.43)\n",
            "Requirement already satisfied: regex!=2019.12.17 in /usr/local/lib/python3.6/dist-packages (from transformers) (2019.12.20)\n",
            "Requirement already satisfied: sentencepiece!=0.1.92 in /usr/local/lib/python3.6/dist-packages (from transformers) (0.1.94)\n",
            "Requirement already satisfied: filelock in /usr/local/lib/python3.6/dist-packages (from transformers) (3.0.12)\n",
            "Requirement already satisfied: tokenizers==0.9.2 in /usr/local/lib/python3.6/dist-packages (from transformers) (0.9.2)\n",
            "Requirement already satisfied: tqdm>=4.27 in /usr/local/lib/python3.6/dist-packages (from transformers) (4.41.1)\n",
            "Requirement already satisfied: protobuf in /usr/local/lib/python3.6/dist-packages (from transformers) (3.12.4)\n",
            "Requirement already satisfied: packaging in /usr/local/lib/python3.6/dist-packages (from transformers) (20.4)\n",
            "Requirement already satisfied: requests in /usr/local/lib/python3.6/dist-packages (from transformers) (2.23.0)\n",
            "Requirement already satisfied: numpy in /usr/local/lib/python3.6/dist-packages (from transformers) (1.18.5)\n",
            "Requirement already satisfied: joblib in /usr/local/lib/python3.6/dist-packages (from sacremoses->transformers) (0.16.0)\n",
            "Requirement already satisfied: click in /usr/local/lib/python3.6/dist-packages (from sacremoses->transformers) (7.1.2)\n",
            "Requirement already satisfied: six in /usr/local/lib/python3.6/dist-packages (from sacremoses->transformers) (1.15.0)\n",
            "Requirement already satisfied: setuptools in /usr/local/lib/python3.6/dist-packages (from protobuf->transformers) (50.3.0)\n",
            "Requirement already satisfied: pyparsing>=2.0.2 in /usr/local/lib/python3.6/dist-packages (from packaging->transformers) (2.4.7)\n",
            "Requirement already satisfied: certifi>=2017.4.17 in /usr/local/lib/python3.6/dist-packages (from requests->transformers) (2020.6.20)\n",
            "Requirement already satisfied: idna<3,>=2.5 in /usr/local/lib/python3.6/dist-packages (from requests->transformers) (2.10)\n",
            "Requirement already satisfied: chardet<4,>=3.0.2 in /usr/local/lib/python3.6/dist-packages (from requests->transformers) (3.0.4)\n",
            "Requirement already satisfied: urllib3!=1.25.0,!=1.25.1,<1.26,>=1.21.1 in /usr/local/lib/python3.6/dist-packages (from requests->transformers) (1.24.3)\n"
          ],
          "name": "stdout"
        }
      ]
    },
    {
      "cell_type": "code",
      "metadata": {
        "id": "g8aGfX5WIgiC",
        "outputId": "4380d2b2-a715-443d-d63a-deffe9548055",
        "colab": {
          "base_uri": "https://localhost:8080/",
          "height": 66
        }
      },
      "source": [
        "!pip3 install torch"
      ],
      "execution_count": 6,
      "outputs": [
        {
          "output_type": "stream",
          "text": [
            "Requirement already satisfied: torch in /usr/local/lib/python3.6/dist-packages (1.6.0+cu101)\n",
            "Requirement already satisfied: future in /usr/local/lib/python3.6/dist-packages (from torch) (0.16.0)\n",
            "Requirement already satisfied: numpy in /usr/local/lib/python3.6/dist-packages (from torch) (1.18.5)\n"
          ],
          "name": "stdout"
        }
      ]
    },
    {
      "cell_type": "code",
      "metadata": {
        "id": "wtQFW7PLIk_u",
        "outputId": "6435d214-8eb5-43ed-fcd4-a918252734c8",
        "colab": {
          "base_uri": "https://localhost:8080/",
          "height": 98
        }
      },
      "source": [
        "!pip3 install sklearn"
      ],
      "execution_count": 7,
      "outputs": [
        {
          "output_type": "stream",
          "text": [
            "Requirement already satisfied: sklearn in /usr/local/lib/python3.6/dist-packages (0.0)\n",
            "Requirement already satisfied: scikit-learn in /usr/local/lib/python3.6/dist-packages (from sklearn) (0.22.2.post1)\n",
            "Requirement already satisfied: numpy>=1.11.0 in /usr/local/lib/python3.6/dist-packages (from scikit-learn->sklearn) (1.18.5)\n",
            "Requirement already satisfied: scipy>=0.17.0 in /usr/local/lib/python3.6/dist-packages (from scikit-learn->sklearn) (1.4.1)\n",
            "Requirement already satisfied: joblib>=0.11 in /usr/local/lib/python3.6/dist-packages (from scikit-learn->sklearn) (0.16.0)\n"
          ],
          "name": "stdout"
        }
      ]
    },
    {
      "cell_type": "code",
      "metadata": {
        "id": "YW-_a2GNIoWT",
        "outputId": "73f11bb3-066e-4d00-f116-faa778a13c19",
        "colab": {
          "base_uri": "https://localhost:8080/",
          "height": 196
        }
      },
      "source": [
        "!pip3 install seaborn"
      ],
      "execution_count": 8,
      "outputs": [
        {
          "output_type": "stream",
          "text": [
            "Requirement already satisfied: seaborn in /usr/local/lib/python3.6/dist-packages (0.11.0)\n",
            "Requirement already satisfied: pandas>=0.23 in /usr/local/lib/python3.6/dist-packages (from seaborn) (1.1.2)\n",
            "Requirement already satisfied: matplotlib>=2.2 in /usr/local/lib/python3.6/dist-packages (from seaborn) (3.2.2)\n",
            "Requirement already satisfied: scipy>=1.0 in /usr/local/lib/python3.6/dist-packages (from seaborn) (1.4.1)\n",
            "Requirement already satisfied: numpy>=1.15 in /usr/local/lib/python3.6/dist-packages (from seaborn) (1.18.5)\n",
            "Requirement already satisfied: pytz>=2017.2 in /usr/local/lib/python3.6/dist-packages (from pandas>=0.23->seaborn) (2018.9)\n",
            "Requirement already satisfied: python-dateutil>=2.7.3 in /usr/local/lib/python3.6/dist-packages (from pandas>=0.23->seaborn) (2.8.1)\n",
            "Requirement already satisfied: pyparsing!=2.0.4,!=2.1.2,!=2.1.6,>=2.0.1 in /usr/local/lib/python3.6/dist-packages (from matplotlib>=2.2->seaborn) (2.4.7)\n",
            "Requirement already satisfied: kiwisolver>=1.0.1 in /usr/local/lib/python3.6/dist-packages (from matplotlib>=2.2->seaborn) (1.2.0)\n",
            "Requirement already satisfied: cycler>=0.10 in /usr/local/lib/python3.6/dist-packages (from matplotlib>=2.2->seaborn) (0.10.0)\n",
            "Requirement already satisfied: six>=1.5 in /usr/local/lib/python3.6/dist-packages (from python-dateutil>=2.7.3->pandas>=0.23->seaborn) (1.15.0)\n"
          ],
          "name": "stdout"
        }
      ]
    },
    {
      "cell_type": "code",
      "metadata": {
        "id": "1DaufWWxIMct"
      },
      "source": [
        "import pandas as pd\n",
        "import matplotlib.pyplot as plt\n",
        "import seaborn as sns\n",
        "from evaluation import Evaluation"
      ],
      "execution_count": 9,
      "outputs": []
    },
    {
      "cell_type": "code",
      "metadata": {
        "id": "0vBdNPgCJjts"
      },
      "source": [
        "df = pd.read_csv('/content/BERT-Sentiment-Analysis/data/google_play_reviews/dataset.csv')"
      ],
      "execution_count": 10,
      "outputs": []
    },
    {
      "cell_type": "code",
      "metadata": {
        "id": "s3p-nXccJxXV",
        "outputId": "02b78b12-6dad-4b87-97df-674e1b711432",
        "colab": {
          "base_uri": "https://localhost:8080/",
          "height": 455
        }
      },
      "source": [
        "# check dataframe\n",
        "df.head()"
      ],
      "execution_count": 11,
      "outputs": [
        {
          "output_type": "execute_result",
          "data": {
            "text/html": [
              "<div>\n",
              "<style scoped>\n",
              "    .dataframe tbody tr th:only-of-type {\n",
              "        vertical-align: middle;\n",
              "    }\n",
              "\n",
              "    .dataframe tbody tr th {\n",
              "        vertical-align: top;\n",
              "    }\n",
              "\n",
              "    .dataframe thead th {\n",
              "        text-align: right;\n",
              "    }\n",
              "</style>\n",
              "<table border=\"1\" class=\"dataframe\">\n",
              "  <thead>\n",
              "    <tr style=\"text-align: right;\">\n",
              "      <th></th>\n",
              "      <th>reviewId</th>\n",
              "      <th>userName</th>\n",
              "      <th>userImage</th>\n",
              "      <th>content</th>\n",
              "      <th>score</th>\n",
              "      <th>thumbsUpCount</th>\n",
              "      <th>reviewCreatedVersion</th>\n",
              "      <th>at</th>\n",
              "      <th>replyContent</th>\n",
              "      <th>repliedAt</th>\n",
              "      <th>sortOrder</th>\n",
              "      <th>appId</th>\n",
              "    </tr>\n",
              "  </thead>\n",
              "  <tbody>\n",
              "    <tr>\n",
              "      <th>0</th>\n",
              "      <td>gp:AOqpTOHNHm4OfbjkxEXXa51JwZEHAaDlvfSgN0OU256...</td>\n",
              "      <td>Lex S</td>\n",
              "      <td>https://play-lh.googleusercontent.com/-FgDpDeE...</td>\n",
              "      <td>I love this app, but I do have one major gripe...</td>\n",
              "      <td>1</td>\n",
              "      <td>124</td>\n",
              "      <td>5.2.0.23</td>\n",
              "      <td>2020-08-05 18:22:04</td>\n",
              "      <td>We ensured that Any.do would be fairly priced,...</td>\n",
              "      <td>2020-08-10 09:41:21</td>\n",
              "      <td>most_relevant</td>\n",
              "      <td>com.anydo</td>\n",
              "    </tr>\n",
              "    <tr>\n",
              "      <th>1</th>\n",
              "      <td>gp:AOqpTOHB6-9UnF_GWUDr3szAVvXyvUp1OxNxBenTjog...</td>\n",
              "      <td>Colleen Wallace</td>\n",
              "      <td>https://lh3.googleusercontent.com/a-/AOh14Gjzg...</td>\n",
              "      <td>Update ruined app Last update re-formatted the...</td>\n",
              "      <td>1</td>\n",
              "      <td>61</td>\n",
              "      <td>5.4.0.6</td>\n",
              "      <td>2020-09-07 21:02:48</td>\n",
              "      <td>We are doing all we can to respond to all of o...</td>\n",
              "      <td>2020-09-08 09:58:44</td>\n",
              "      <td>most_relevant</td>\n",
              "      <td>com.anydo</td>\n",
              "    </tr>\n",
              "    <tr>\n",
              "      <th>2</th>\n",
              "      <td>gp:AOqpTOEujjLj56XVqumAkipImEqIAU3qTIuQjENPaOK...</td>\n",
              "      <td>Sam van Dijk</td>\n",
              "      <td>https://play-lh.googleusercontent.com/-pO3wTIb...</td>\n",
              "      <td>Trash. Yes, it has some nice nifty features bu...</td>\n",
              "      <td>1</td>\n",
              "      <td>30</td>\n",
              "      <td>5.2.0.23</td>\n",
              "      <td>2020-07-22 00:17:25</td>\n",
              "      <td>Premium users can edit, create and delete tags...</td>\n",
              "      <td>2020-07-23 17:57:51</td>\n",
              "      <td>most_relevant</td>\n",
              "      <td>com.anydo</td>\n",
              "    </tr>\n",
              "    <tr>\n",
              "      <th>3</th>\n",
              "      <td>gp:AOqpTOGCGOEcZNh7qvxq32YqKUPPFuZm-jMfFQn8HDe...</td>\n",
              "      <td>Alessandro Frul</td>\n",
              "      <td>https://lh3.googleusercontent.com/-ampdq6QXuzc...</td>\n",
              "      <td>It doesn't have sub lists, e.g. \"child/school\"...</td>\n",
              "      <td>1</td>\n",
              "      <td>10</td>\n",
              "      <td>5.5.0.8</td>\n",
              "      <td>2020-09-21 07:46:29</td>\n",
              "      <td>Any.do is a minimalist task manager, which ref...</td>\n",
              "      <td>2020-09-23 08:21:13</td>\n",
              "      <td>most_relevant</td>\n",
              "      <td>com.anydo</td>\n",
              "    </tr>\n",
              "    <tr>\n",
              "      <th>4</th>\n",
              "      <td>gp:AOqpTOElISilniODwd6UBrqFngzTtDHLF-G0VLpR2_y...</td>\n",
              "      <td>Hugo Bounoua</td>\n",
              "      <td>https://lh3.googleusercontent.com/a-/AOh14GgxG...</td>\n",
              "      <td>OMG the UI is awful, seriously you have popup ...</td>\n",
              "      <td>1</td>\n",
              "      <td>13</td>\n",
              "      <td>5.2.0.23</td>\n",
              "      <td>2020-07-22 09:23:35</td>\n",
              "      <td>The Premium ad only shows up when first openin...</td>\n",
              "      <td>2020-07-23 18:20:43</td>\n",
              "      <td>most_relevant</td>\n",
              "      <td>com.anydo</td>\n",
              "    </tr>\n",
              "  </tbody>\n",
              "</table>\n",
              "</div>"
            ],
            "text/plain": [
              "                                            reviewId  ...      appId\n",
              "0  gp:AOqpTOHNHm4OfbjkxEXXa51JwZEHAaDlvfSgN0OU256...  ...  com.anydo\n",
              "1  gp:AOqpTOHB6-9UnF_GWUDr3szAVvXyvUp1OxNxBenTjog...  ...  com.anydo\n",
              "2  gp:AOqpTOEujjLj56XVqumAkipImEqIAU3qTIuQjENPaOK...  ...  com.anydo\n",
              "3  gp:AOqpTOGCGOEcZNh7qvxq32YqKUPPFuZm-jMfFQn8HDe...  ...  com.anydo\n",
              "4  gp:AOqpTOElISilniODwd6UBrqFngzTtDHLF-G0VLpR2_y...  ...  com.anydo\n",
              "\n",
              "[5 rows x 12 columns]"
            ]
          },
          "metadata": {
            "tags": []
          },
          "execution_count": 11
        }
      ]
    },
    {
      "cell_type": "code",
      "metadata": {
        "id": "pbF6h02SlZXM"
      },
      "source": [
        "df = df.rename(columns={'content': 'text'})"
      ],
      "execution_count": 12,
      "outputs": []
    },
    {
      "cell_type": "code",
      "metadata": {
        "id": "40oKbxnHljW1",
        "outputId": "0b49c3b9-9e86-42d9-c464-02f07479a6e4",
        "colab": {
          "base_uri": "https://localhost:8080/",
          "height": 455
        }
      },
      "source": [
        "df.head()"
      ],
      "execution_count": 13,
      "outputs": [
        {
          "output_type": "execute_result",
          "data": {
            "text/html": [
              "<div>\n",
              "<style scoped>\n",
              "    .dataframe tbody tr th:only-of-type {\n",
              "        vertical-align: middle;\n",
              "    }\n",
              "\n",
              "    .dataframe tbody tr th {\n",
              "        vertical-align: top;\n",
              "    }\n",
              "\n",
              "    .dataframe thead th {\n",
              "        text-align: right;\n",
              "    }\n",
              "</style>\n",
              "<table border=\"1\" class=\"dataframe\">\n",
              "  <thead>\n",
              "    <tr style=\"text-align: right;\">\n",
              "      <th></th>\n",
              "      <th>reviewId</th>\n",
              "      <th>userName</th>\n",
              "      <th>userImage</th>\n",
              "      <th>text</th>\n",
              "      <th>score</th>\n",
              "      <th>thumbsUpCount</th>\n",
              "      <th>reviewCreatedVersion</th>\n",
              "      <th>at</th>\n",
              "      <th>replyContent</th>\n",
              "      <th>repliedAt</th>\n",
              "      <th>sortOrder</th>\n",
              "      <th>appId</th>\n",
              "    </tr>\n",
              "  </thead>\n",
              "  <tbody>\n",
              "    <tr>\n",
              "      <th>0</th>\n",
              "      <td>gp:AOqpTOHNHm4OfbjkxEXXa51JwZEHAaDlvfSgN0OU256...</td>\n",
              "      <td>Lex S</td>\n",
              "      <td>https://play-lh.googleusercontent.com/-FgDpDeE...</td>\n",
              "      <td>I love this app, but I do have one major gripe...</td>\n",
              "      <td>1</td>\n",
              "      <td>124</td>\n",
              "      <td>5.2.0.23</td>\n",
              "      <td>2020-08-05 18:22:04</td>\n",
              "      <td>We ensured that Any.do would be fairly priced,...</td>\n",
              "      <td>2020-08-10 09:41:21</td>\n",
              "      <td>most_relevant</td>\n",
              "      <td>com.anydo</td>\n",
              "    </tr>\n",
              "    <tr>\n",
              "      <th>1</th>\n",
              "      <td>gp:AOqpTOHB6-9UnF_GWUDr3szAVvXyvUp1OxNxBenTjog...</td>\n",
              "      <td>Colleen Wallace</td>\n",
              "      <td>https://lh3.googleusercontent.com/a-/AOh14Gjzg...</td>\n",
              "      <td>Update ruined app Last update re-formatted the...</td>\n",
              "      <td>1</td>\n",
              "      <td>61</td>\n",
              "      <td>5.4.0.6</td>\n",
              "      <td>2020-09-07 21:02:48</td>\n",
              "      <td>We are doing all we can to respond to all of o...</td>\n",
              "      <td>2020-09-08 09:58:44</td>\n",
              "      <td>most_relevant</td>\n",
              "      <td>com.anydo</td>\n",
              "    </tr>\n",
              "    <tr>\n",
              "      <th>2</th>\n",
              "      <td>gp:AOqpTOEujjLj56XVqumAkipImEqIAU3qTIuQjENPaOK...</td>\n",
              "      <td>Sam van Dijk</td>\n",
              "      <td>https://play-lh.googleusercontent.com/-pO3wTIb...</td>\n",
              "      <td>Trash. Yes, it has some nice nifty features bu...</td>\n",
              "      <td>1</td>\n",
              "      <td>30</td>\n",
              "      <td>5.2.0.23</td>\n",
              "      <td>2020-07-22 00:17:25</td>\n",
              "      <td>Premium users can edit, create and delete tags...</td>\n",
              "      <td>2020-07-23 17:57:51</td>\n",
              "      <td>most_relevant</td>\n",
              "      <td>com.anydo</td>\n",
              "    </tr>\n",
              "    <tr>\n",
              "      <th>3</th>\n",
              "      <td>gp:AOqpTOGCGOEcZNh7qvxq32YqKUPPFuZm-jMfFQn8HDe...</td>\n",
              "      <td>Alessandro Frul</td>\n",
              "      <td>https://lh3.googleusercontent.com/-ampdq6QXuzc...</td>\n",
              "      <td>It doesn't have sub lists, e.g. \"child/school\"...</td>\n",
              "      <td>1</td>\n",
              "      <td>10</td>\n",
              "      <td>5.5.0.8</td>\n",
              "      <td>2020-09-21 07:46:29</td>\n",
              "      <td>Any.do is a minimalist task manager, which ref...</td>\n",
              "      <td>2020-09-23 08:21:13</td>\n",
              "      <td>most_relevant</td>\n",
              "      <td>com.anydo</td>\n",
              "    </tr>\n",
              "    <tr>\n",
              "      <th>4</th>\n",
              "      <td>gp:AOqpTOElISilniODwd6UBrqFngzTtDHLF-G0VLpR2_y...</td>\n",
              "      <td>Hugo Bounoua</td>\n",
              "      <td>https://lh3.googleusercontent.com/a-/AOh14GgxG...</td>\n",
              "      <td>OMG the UI is awful, seriously you have popup ...</td>\n",
              "      <td>1</td>\n",
              "      <td>13</td>\n",
              "      <td>5.2.0.23</td>\n",
              "      <td>2020-07-22 09:23:35</td>\n",
              "      <td>The Premium ad only shows up when first openin...</td>\n",
              "      <td>2020-07-23 18:20:43</td>\n",
              "      <td>most_relevant</td>\n",
              "      <td>com.anydo</td>\n",
              "    </tr>\n",
              "  </tbody>\n",
              "</table>\n",
              "</div>"
            ],
            "text/plain": [
              "                                            reviewId  ...      appId\n",
              "0  gp:AOqpTOHNHm4OfbjkxEXXa51JwZEHAaDlvfSgN0OU256...  ...  com.anydo\n",
              "1  gp:AOqpTOHB6-9UnF_GWUDr3szAVvXyvUp1OxNxBenTjog...  ...  com.anydo\n",
              "2  gp:AOqpTOEujjLj56XVqumAkipImEqIAU3qTIuQjENPaOK...  ...  com.anydo\n",
              "3  gp:AOqpTOGCGOEcZNh7qvxq32YqKUPPFuZm-jMfFQn8HDe...  ...  com.anydo\n",
              "4  gp:AOqpTOElISilniODwd6UBrqFngzTtDHLF-G0VLpR2_y...  ...  com.anydo\n",
              "\n",
              "[5 rows x 12 columns]"
            ]
          },
          "metadata": {
            "tags": []
          },
          "execution_count": 13
        }
      ]
    },
    {
      "cell_type": "code",
      "metadata": {
        "id": "TdTqeLTzlkAm"
      },
      "source": [
        "# next, get sentiment label for each review in numeric format\n",
        "def to_label(rating):\n",
        "    rating = int(rating)\n",
        "    if rating <= 2:\n",
        "        return \"negative\"\n",
        "    elif rating == 3:\n",
        "        return \"neutral\"\n",
        "    else:\n",
        "        return \"positive\""
      ],
      "execution_count": 14,
      "outputs": []
    },
    {
      "cell_type": "code",
      "metadata": {
        "id": "fHFkRdWFlkKU"
      },
      "source": [
        "df['label'] = df['score'].apply(to_label)"
      ],
      "execution_count": 15,
      "outputs": []
    },
    {
      "cell_type": "code",
      "metadata": {
        "id": "5bYJ_rsvlj2O",
        "outputId": "f9038ddb-2de0-48b2-ba72-f23207b77922",
        "colab": {
          "base_uri": "https://localhost:8080/",
          "height": 455
        }
      },
      "source": [
        "df.head()"
      ],
      "execution_count": 16,
      "outputs": [
        {
          "output_type": "execute_result",
          "data": {
            "text/html": [
              "<div>\n",
              "<style scoped>\n",
              "    .dataframe tbody tr th:only-of-type {\n",
              "        vertical-align: middle;\n",
              "    }\n",
              "\n",
              "    .dataframe tbody tr th {\n",
              "        vertical-align: top;\n",
              "    }\n",
              "\n",
              "    .dataframe thead th {\n",
              "        text-align: right;\n",
              "    }\n",
              "</style>\n",
              "<table border=\"1\" class=\"dataframe\">\n",
              "  <thead>\n",
              "    <tr style=\"text-align: right;\">\n",
              "      <th></th>\n",
              "      <th>reviewId</th>\n",
              "      <th>userName</th>\n",
              "      <th>userImage</th>\n",
              "      <th>text</th>\n",
              "      <th>score</th>\n",
              "      <th>thumbsUpCount</th>\n",
              "      <th>reviewCreatedVersion</th>\n",
              "      <th>at</th>\n",
              "      <th>replyContent</th>\n",
              "      <th>repliedAt</th>\n",
              "      <th>sortOrder</th>\n",
              "      <th>appId</th>\n",
              "      <th>label</th>\n",
              "    </tr>\n",
              "  </thead>\n",
              "  <tbody>\n",
              "    <tr>\n",
              "      <th>0</th>\n",
              "      <td>gp:AOqpTOHNHm4OfbjkxEXXa51JwZEHAaDlvfSgN0OU256...</td>\n",
              "      <td>Lex S</td>\n",
              "      <td>https://play-lh.googleusercontent.com/-FgDpDeE...</td>\n",
              "      <td>I love this app, but I do have one major gripe...</td>\n",
              "      <td>1</td>\n",
              "      <td>124</td>\n",
              "      <td>5.2.0.23</td>\n",
              "      <td>2020-08-05 18:22:04</td>\n",
              "      <td>We ensured that Any.do would be fairly priced,...</td>\n",
              "      <td>2020-08-10 09:41:21</td>\n",
              "      <td>most_relevant</td>\n",
              "      <td>com.anydo</td>\n",
              "      <td>negative</td>\n",
              "    </tr>\n",
              "    <tr>\n",
              "      <th>1</th>\n",
              "      <td>gp:AOqpTOHB6-9UnF_GWUDr3szAVvXyvUp1OxNxBenTjog...</td>\n",
              "      <td>Colleen Wallace</td>\n",
              "      <td>https://lh3.googleusercontent.com/a-/AOh14Gjzg...</td>\n",
              "      <td>Update ruined app Last update re-formatted the...</td>\n",
              "      <td>1</td>\n",
              "      <td>61</td>\n",
              "      <td>5.4.0.6</td>\n",
              "      <td>2020-09-07 21:02:48</td>\n",
              "      <td>We are doing all we can to respond to all of o...</td>\n",
              "      <td>2020-09-08 09:58:44</td>\n",
              "      <td>most_relevant</td>\n",
              "      <td>com.anydo</td>\n",
              "      <td>negative</td>\n",
              "    </tr>\n",
              "    <tr>\n",
              "      <th>2</th>\n",
              "      <td>gp:AOqpTOEujjLj56XVqumAkipImEqIAU3qTIuQjENPaOK...</td>\n",
              "      <td>Sam van Dijk</td>\n",
              "      <td>https://play-lh.googleusercontent.com/-pO3wTIb...</td>\n",
              "      <td>Trash. Yes, it has some nice nifty features bu...</td>\n",
              "      <td>1</td>\n",
              "      <td>30</td>\n",
              "      <td>5.2.0.23</td>\n",
              "      <td>2020-07-22 00:17:25</td>\n",
              "      <td>Premium users can edit, create and delete tags...</td>\n",
              "      <td>2020-07-23 17:57:51</td>\n",
              "      <td>most_relevant</td>\n",
              "      <td>com.anydo</td>\n",
              "      <td>negative</td>\n",
              "    </tr>\n",
              "    <tr>\n",
              "      <th>3</th>\n",
              "      <td>gp:AOqpTOGCGOEcZNh7qvxq32YqKUPPFuZm-jMfFQn8HDe...</td>\n",
              "      <td>Alessandro Frul</td>\n",
              "      <td>https://lh3.googleusercontent.com/-ampdq6QXuzc...</td>\n",
              "      <td>It doesn't have sub lists, e.g. \"child/school\"...</td>\n",
              "      <td>1</td>\n",
              "      <td>10</td>\n",
              "      <td>5.5.0.8</td>\n",
              "      <td>2020-09-21 07:46:29</td>\n",
              "      <td>Any.do is a minimalist task manager, which ref...</td>\n",
              "      <td>2020-09-23 08:21:13</td>\n",
              "      <td>most_relevant</td>\n",
              "      <td>com.anydo</td>\n",
              "      <td>negative</td>\n",
              "    </tr>\n",
              "    <tr>\n",
              "      <th>4</th>\n",
              "      <td>gp:AOqpTOElISilniODwd6UBrqFngzTtDHLF-G0VLpR2_y...</td>\n",
              "      <td>Hugo Bounoua</td>\n",
              "      <td>https://lh3.googleusercontent.com/a-/AOh14GgxG...</td>\n",
              "      <td>OMG the UI is awful, seriously you have popup ...</td>\n",
              "      <td>1</td>\n",
              "      <td>13</td>\n",
              "      <td>5.2.0.23</td>\n",
              "      <td>2020-07-22 09:23:35</td>\n",
              "      <td>The Premium ad only shows up when first openin...</td>\n",
              "      <td>2020-07-23 18:20:43</td>\n",
              "      <td>most_relevant</td>\n",
              "      <td>com.anydo</td>\n",
              "      <td>negative</td>\n",
              "    </tr>\n",
              "  </tbody>\n",
              "</table>\n",
              "</div>"
            ],
            "text/plain": [
              "                                            reviewId  ...     label\n",
              "0  gp:AOqpTOHNHm4OfbjkxEXXa51JwZEHAaDlvfSgN0OU256...  ...  negative\n",
              "1  gp:AOqpTOHB6-9UnF_GWUDr3szAVvXyvUp1OxNxBenTjog...  ...  negative\n",
              "2  gp:AOqpTOEujjLj56XVqumAkipImEqIAU3qTIuQjENPaOK...  ...  negative\n",
              "3  gp:AOqpTOGCGOEcZNh7qvxq32YqKUPPFuZm-jMfFQn8HDe...  ...  negative\n",
              "4  gp:AOqpTOElISilniODwd6UBrqFngzTtDHLF-G0VLpR2_y...  ...  negative\n",
              "\n",
              "[5 rows x 13 columns]"
            ]
          },
          "metadata": {
            "tags": []
          },
          "execution_count": 16
        }
      ]
    },
    {
      "cell_type": "code",
      "metadata": {
        "id": "zy-4VynqmLk4",
        "outputId": "cf27bf29-a99b-4fef-b8da-20b5230c0dee",
        "colab": {
          "base_uri": "https://localhost:8080/",
          "height": 402
        }
      },
      "source": [
        "# check data distribution\n",
        "ax = sns.countplot(df.label)\n",
        "plt.xlabel('sentiment')"
      ],
      "execution_count": 17,
      "outputs": [
        {
          "output_type": "stream",
          "text": [
            "/usr/local/lib/python3.6/dist-packages/seaborn/_decorators.py:43: FutureWarning: Pass the following variable as a keyword arg: x. From version 0.12, the only valid positional argument will be `data`, and passing other arguments without an explicit keyword will result in an error or misinterpretation.\n",
            "  FutureWarning\n"
          ],
          "name": "stderr"
        },
        {
          "output_type": "execute_result",
          "data": {
            "text/plain": [
              "Text(0.5, 0, 'sentiment')"
            ]
          },
          "metadata": {
            "tags": []
          },
          "execution_count": 17
        },
        {
          "output_type": "display_data",
          "data": {
            "image/png": "[encoded data removed]",
            "text/plain": [
              "<Figure size 720x360 with 1 Axes>"
            ]
          },
          "metadata": {
            "tags": [],
            "needs_background": "light"
          }
        }
      ]
    },
    {
      "cell_type": "code",
      "metadata": {
        "id": "MCWasjL6mMbe",
        "outputId": "210eac0c-e091-4edc-f83e-930ddab57a4f",
        "colab": {
          "base_uri": "https://localhost:8080/",
          "height": 228
        }
      },
      "source": [
        "df.columns.tolist()"
      ],
      "execution_count": 18,
      "outputs": [
        {
          "output_type": "execute_result",
          "data": {
            "text/plain": [
              "['reviewId',\n",
              " 'userName',\n",
              " 'userImage',\n",
              " 'text',\n",
              " 'score',\n",
              " 'thumbsUpCount',\n",
              " 'reviewCreatedVersion',\n",
              " 'at',\n",
              " 'replyContent',\n",
              " 'repliedAt',\n",
              " 'sortOrder',\n",
              " 'appId',\n",
              " 'label']"
            ]
          },
          "metadata": {
            "tags": []
          },
          "execution_count": 18
        }
      ]
    },
    {
      "cell_type": "code",
      "metadata": {
        "id": "DpkeZ3X4mMLa"
      },
      "source": [
        "# drop unused columns\n",
        "df.drop(\n",
        "    [\n",
        "      'reviewId',\n",
        "      'userName',\n",
        "      'userImage',\n",
        "      'score',\n",
        "      'thumbsUpCount',\n",
        "      'reviewCreatedVersion',\n",
        "      'at',\n",
        "      'replyContent',\n",
        "      'repliedAt',\n",
        "      'sortOrder',\n",
        "      'appId'\n",
        "    ],\n",
        "    axis=1,\n",
        "    inplace=True\n",
        ")"
      ],
      "execution_count": 19,
      "outputs": []
    },
    {
      "cell_type": "code",
      "metadata": {
        "id": "rsCTWMiQnBeI",
        "outputId": "d36c9eca-891d-4c6c-e6a6-ebd196eb2674",
        "colab": {
          "base_uri": "https://localhost:8080/",
          "height": 191
        }
      },
      "source": [
        "df.head()"
      ],
      "execution_count": 20,
      "outputs": [
        {
          "output_type": "execute_result",
          "data": {
            "text/html": [
              "<div>\n",
              "<style scoped>\n",
              "    .dataframe tbody tr th:only-of-type {\n",
              "        vertical-align: middle;\n",
              "    }\n",
              "\n",
              "    .dataframe tbody tr th {\n",
              "        vertical-align: top;\n",
              "    }\n",
              "\n",
              "    .dataframe thead th {\n",
              "        text-align: right;\n",
              "    }\n",
              "</style>\n",
              "<table border=\"1\" class=\"dataframe\">\n",
              "  <thead>\n",
              "    <tr style=\"text-align: right;\">\n",
              "      <th></th>\n",
              "      <th>text</th>\n",
              "      <th>label</th>\n",
              "    </tr>\n",
              "  </thead>\n",
              "  <tbody>\n",
              "    <tr>\n",
              "      <th>0</th>\n",
              "      <td>I love this app, but I do have one major gripe...</td>\n",
              "      <td>negative</td>\n",
              "    </tr>\n",
              "    <tr>\n",
              "      <th>1</th>\n",
              "      <td>Update ruined app Last update re-formatted the...</td>\n",
              "      <td>negative</td>\n",
              "    </tr>\n",
              "    <tr>\n",
              "      <th>2</th>\n",
              "      <td>Trash. Yes, it has some nice nifty features bu...</td>\n",
              "      <td>negative</td>\n",
              "    </tr>\n",
              "    <tr>\n",
              "      <th>3</th>\n",
              "      <td>It doesn't have sub lists, e.g. \"child/school\"...</td>\n",
              "      <td>negative</td>\n",
              "    </tr>\n",
              "    <tr>\n",
              "      <th>4</th>\n",
              "      <td>OMG the UI is awful, seriously you have popup ...</td>\n",
              "      <td>negative</td>\n",
              "    </tr>\n",
              "  </tbody>\n",
              "</table>\n",
              "</div>"
            ],
            "text/plain": [
              "                                                text     label\n",
              "0  I love this app, but I do have one major gripe...  negative\n",
              "1  Update ruined app Last update re-formatted the...  negative\n",
              "2  Trash. Yes, it has some nice nifty features bu...  negative\n",
              "3  It doesn't have sub lists, e.g. \"child/school\"...  negative\n",
              "4  OMG the UI is awful, seriously you have popup ...  negative"
            ]
          },
          "metadata": {
            "tags": []
          },
          "execution_count": 20
        }
      ]
    },
    {
      "cell_type": "code",
      "metadata": {
        "id": "2ljClDgWZodz",
        "outputId": "392a5077-d709-4088-cb02-e303d90e78b5",
        "colab": {
          "base_uri": "https://localhost:8080/",
          "height": 336
        }
      },
      "source": [
        "# check sequence length distribution\n",
        "sentences = df['text'].tolist()\n",
        "seq_len = [len(sentence.split()) for sentence in sentences]\n",
        "pd.Series(seq_len).hist(bins=30)"
      ],
      "execution_count": 21,
      "outputs": [
        {
          "output_type": "execute_result",
          "data": {
            "text/plain": [
              "<matplotlib.axes._subplots.AxesSubplot at 0x7f125c1000b8>"
            ]
          },
          "metadata": {
            "tags": []
          },
          "execution_count": 21
        },
        {
          "output_type": "display_data",
          "data": {
            "image/png": "[encoded data removed]",
            "text/plain": [
              "<Figure size 720x360 with 1 Axes>"
            ]
          },
          "metadata": {
            "tags": [],
            "needs_background": "light"
          }
        }
      ]
    },
    {
      "cell_type": "code",
      "metadata": {
        "id": "D0Tom743YVh4"
      },
      "source": [
        "df.dropna(inplace=True)"
      ],
      "execution_count": 22,
      "outputs": []
    },
    {
      "cell_type": "code",
      "metadata": {
        "id": "5jAKwypfpSl1"
      },
      "source": [
        "ev = Evaluation(lang_code='en', method='BERT', version='1.1', epochs=10, batch_size=16)"
      ],
      "execution_count": 23,
      "outputs": []
    },
    {
      "cell_type": "code",
      "metadata": {
        "id": "9n-liJyDpSr0",
        "outputId": "8f684d6c-bf40-496a-ffe4-657c9a205f55",
        "colab": {
          "base_uri": "https://localhost:8080/",
          "height": 1000
        }
      },
      "source": [
        "ev.create_model(df=df, max_length=128, output_path='output')"
      ],
      "execution_count": 24,
      "outputs": [
        {
          "output_type": "stream",
          "text": [
            "Some weights of the model checkpoint at bert-base-uncased were not used when initializing BertForSequenceClassification: ['cls.predictions.bias', 'cls.predictions.transform.dense.weight', 'cls.predictions.transform.dense.bias', 'cls.predictions.decoder.weight', 'cls.seq_relationship.weight', 'cls.seq_relationship.bias', 'cls.predictions.transform.LayerNorm.weight', 'cls.predictions.transform.LayerNorm.bias']\n",
            "- This IS expected if you are initializing BertForSequenceClassification from the checkpoint of a model trained on another task or with another architecture (e.g. initializing a BertForSequenceClassification model from a BertForPretraining model).\n",
            "- This IS NOT expected if you are initializing BertForSequenceClassification from the checkpoint of a model that you expect to be exactly identical (initializing a BertForSequenceClassification model from a BertForSequenceClassification model).\n",
            "Some weights of BertForSequenceClassification were not initialized from the model checkpoint at bert-base-uncased and are newly initialized: ['classifier.weight', 'classifier.bias']\n",
            "You should probably TRAIN this model on a down-stream task to be able to use it for predictions and inference.\n"
          ],
          "name": "stderr"
        },
        {
          "output_type": "stream",
          "text": [
            "Epoch 1 / 10\n",
            "----------\n",
            "Train loss 0.6877870853735041 accuracy 0.7013147381419336\n",
            "Val loss 0.674528809656438 accuracy 0.7255144032921811\n",
            "\n",
            "Epoch 2 / 10\n",
            "----------\n",
            "Train loss 0.3926107639405751 accuracy 0.8559599041185443\n",
            "Val loss 0.7082493679696008 accuracy 0.7522633744855967\n",
            "\n",
            "Epoch 3 / 10\n",
            "----------\n",
            "Train loss 0.22771041624574695 accuracy 0.9270719837292075\n",
            "Val loss 0.9313916989761454 accuracy 0.782716049382716\n",
            "\n",
            "Epoch 4 / 10\n",
            "----------\n",
            "Train loss 0.15551971042751572 accuracy 0.9557637829592504\n",
            "Val loss 1.1012497155093832 accuracy 0.776954732510288\n",
            "\n",
            "Epoch 5 / 10\n",
            "----------\n",
            "Train loss 0.10169241704659496 accuracy 0.9723977627660346\n",
            "Val loss 1.2382761133002962 accuracy 0.7847736625514403\n",
            "\n",
            "Epoch 6 / 10\n",
            "----------\n",
            "Train loss 0.06918517040365546 accuracy 0.9802426091377933\n",
            "Val loss 1.2956362314285605 accuracy 0.7983539094650206\n",
            "\n",
            "Epoch 7 / 10\n",
            "----------\n",
            "Train loss 0.053316348124702186 accuracy 0.9840197573908621\n",
            "Val loss 1.3085700656152575 accuracy 0.8012345679012346\n",
            "\n",
            "Epoch 8 / 10\n",
            "----------\n",
            "Train loss 0.04368611036363257 accuracy 0.9850366819205345\n",
            "Val loss 1.4285261128467315 accuracy 0.7950617283950617\n",
            "\n",
            "Epoch 9 / 10\n",
            "----------\n",
            "Train loss 0.03376466045490088 accuracy 0.9887411927071983\n",
            "Val loss 1.4511537784112174 accuracy 0.7950617283950617\n",
            "\n",
            "Epoch 10 / 10\n",
            "----------\n",
            "Train loss 0.0306388038866607 accuracy 0.9892496549720345\n",
            "Val loss 1.4491707938308729 accuracy 0.8008230452674897\n",
            "\n"
          ],
          "name": "stdout"
        },
        {
          "output_type": "stream",
          "text": [
            "/usr/local/lib/python3.6/dist-packages/seaborn/_decorators.py:43: FutureWarning: Pass the following variable as a keyword arg: x. From version 0.12, the only valid positional argument will be `data`, and passing other arguments without an explicit keyword will result in an error or misinterpretation.\n",
            "  FutureWarning\n",
            "/usr/local/lib/python3.6/dist-packages/seaborn/_decorators.py:43: FutureWarning: Pass the following variable as a keyword arg: x. From version 0.12, the only valid positional argument will be `data`, and passing other arguments without an explicit keyword will result in an error or misinterpretation.\n",
            "  FutureWarning\n",
            "/usr/local/lib/python3.6/dist-packages/seaborn/_decorators.py:43: FutureWarning: Pass the following variable as a keyword arg: x. From version 0.12, the only valid positional argument will be `data`, and passing other arguments without an explicit keyword will result in an error or misinterpretation.\n",
            "  FutureWarning\n"
          ],
          "name": "stderr"
        },
        {
          "output_type": "display_data",
          "data": {
            "text/plain": [
              "<Figure size 720x360 with 0 Axes>"
            ]
          },
          "metadata": {
            "tags": []
          }
        },
        {
          "output_type": "display_data",
          "data": {
            "text/plain": [
              "<Figure size 720x360 with 0 Axes>"
            ]
          },
          "metadata": {
            "tags": []
          }
        },
        {
          "output_type": "display_data",
          "data": {
            "text/plain": [
              "<Figure size 720x360 with 0 Axes>"
            ]
          },
          "metadata": {
            "tags": []
          }
        },
        {
          "output_type": "display_data",
          "data": {
            "text/plain": [
              "<Figure size 720x360 with 0 Axes>"
            ]
          },
          "metadata": {
            "tags": []
          }
        },
        {
          "output_type": "display_data",
          "data": {
            "text/plain": [
              "<Figure size 720x360 with 0 Axes>"
            ]
          },
          "metadata": {
            "tags": []
          }
        },
        {
          "output_type": "display_data",
          "data": {
            "text/plain": [
              "<Figure size 720x360 with 0 Axes>"
            ]
          },
          "metadata": {
            "tags": []
          }
        }
      ]
    },
    {
      "cell_type": "code",
      "metadata": {
        "id": "MKOB2K9MLNmO",
        "outputId": "04343582-b797-4c77-f968-77d68207694b",
        "colab": {
          "base_uri": "https://localhost:8080/",
          "height": 50
        }
      },
      "source": [
        "cd BERT-Sentiment-Analysis"
      ],
      "execution_count": 27,
      "outputs": [
        {
          "output_type": "stream",
          "text": [
            "[Errno 2] No such file or directory: 'BERT-Sentiment-Analysis'\n",
            "/content/BERT-Sentiment-Analysis\n"
          ],
          "name": "stdout"
        }
      ]
    },
    {
      "cell_type": "code",
      "metadata": {
        "id": "k2yw5NgFLKhm",
        "outputId": "bbe9b79f-145c-446d-8c51-6b691dd102c8",
        "colab": {
          "base_uri": "https://localhost:8080/",
          "height": 1000
        }
      },
      "source": [
        "!zip -r /content/BERT-Sentiment-Analysis/output/output.zip '.'"
      ],
      "execution_count": 30,
      "outputs": [
        {
          "output_type": "stream",
          "text": [
            "  adding: sentiment.py (deflated 75%)\n",
            "  adding: utility.py (deflated 73%)\n",
            "  adding: .DS_Store (deflated 91%)\n",
            "  adding: evaluation.py (deflated 75%)\n",
            "  adding: test_utility.py (deflated 78%)\n",
            "  adding: README.md (stored 0%)\n",
            "  adding: output/ (stored 0%)\n",
            "  adding: output/label_desc/ (stored 0%)\n",
            "  adding: output/label_desc/en_BERT_1.1/ (stored 0%)\n",
            "  adding: output/label_desc/en_BERT_1.1/label_desc.json (deflated 29%)\n",
            "  adding: output/evaluation/ (stored 0%)\n",
            "  adding: output/evaluation/en_BERT_1.1/ (stored 0%)\n",
            "  adding: output/evaluation/en_BERT_1.1/test_dist.png (deflated 24%)\n",
            "  adding: output/evaluation/en_BERT_1.1/train_dist.png (deflated 24%)\n",
            "  adding: output/evaluation/en_BERT_1.1/confusion_matrix.png (deflated 9%)\n",
            "  adding: output/evaluation/en_BERT_1.1/data_dist.png (deflated 24%)\n",
            "  adding: output/evaluation/en_BERT_1.1/seq_length.png (deflated 26%)\n",
            "  adding: output/evaluation/en_BERT_1.1/classification_report.txt (deflated 62%)\n",
            "  adding: output/evaluation/en_BERT_1.1/train_history.png (deflated 12%)\n",
            "  adding: output/models/ (stored 0%)\n",
            "  adding: output/models/en_BERT_1.1/ (stored 0%)\n",
            "  adding: output/models/en_BERT_1.1/model.pt (deflated 7%)\n",
            "  adding: notebook/ (stored 0%)\n",
            "  adding: notebook/.DS_Store (deflated 97%)\n",
            "  adding: notebook/Google Play Scraper.ipynb (deflated 31%)\n",
            "  adding: notebook/.ipynb_checkpoints/ (stored 0%)\n",
            "  adding: notebook/.ipynb_checkpoints/Google Play Scraper-checkpoint.ipynb (deflated 31%)\n",
            "  adding: notebook/.ipynb_checkpoints/BERT Text Classification-checkpoint.ipynb (deflated 63%)\n",
            "  adding: cm.py (deflated 67%)\n",
            "  adding: preprocessing.py (deflated 70%)\n",
            "  adding: test_sentiment.py (deflated 47%)\n",
            "  adding: LICENSE (deflated 41%)\n",
            "  adding: shared/ (stored 0%)\n",
            "  adding: shared/utils.py (deflated 62%)\n",
            "  adding: shared/__init__.py (stored 0%)\n",
            "  adding: shared/__pycache__/ (stored 0%)\n",
            "  adding: shared/__pycache__/__init__.cpython-36.pyc (deflated 22%)\n",
            "  adding: shared/__pycache__/utils.cpython-36.pyc (deflated 48%)\n",
            "  adding: data/ (stored 0%)\n",
            "  adding: data/.DS_Store (deflated 97%)\n",
            "  adding: data/google_play_reviews/ (stored 0%)\n",
            "  adding: data/google_play_reviews/dataset.csv (deflated 60%)\n",
            "  adding: .git/ (stored 0%)\n",
            "  adding: .git/logs/ (stored 0%)\n",
            "  adding: .git/logs/refs/ (stored 0%)\n",
            "  adding: .git/logs/refs/heads/ (stored 0%)\n",
            "  adding: .git/logs/refs/heads/main (deflated 30%)\n",
            "  adding: .git/logs/refs/remotes/ (stored 0%)\n",
            "  adding: .git/logs/refs/remotes/origin/ (stored 0%)\n",
            "  adding: .git/logs/refs/remotes/origin/HEAD (deflated 30%)\n",
            "  adding: .git/logs/HEAD (deflated 30%)\n",
            "  adding: .git/index (deflated 15%)\n",
            "  adding: .git/config (deflated 35%)\n",
            "  adding: .git/info/ (stored 0%)\n",
            "  adding: .git/info/exclude (deflated 28%)\n",
            "  adding: .git/description (deflated 14%)\n",
            "  adding: .git/refs/ (stored 0%)\n",
            "  adding: .git/refs/heads/ (stored 0%)\n",
            "  adding: .git/refs/heads/main (stored 0%)\n",
            "  adding: .git/refs/tags/ (stored 0%)\n",
            "  adding: .git/refs/remotes/ (stored 0%)\n",
            "  adding: .git/refs/remotes/origin/ (stored 0%)\n",
            "  adding: .git/refs/remotes/origin/HEAD (stored 0%)\n",
            "  adding: .git/packed-refs (deflated 9%)\n",
            "  adding: .git/objects/ (stored 0%)\n",
            "  adding: .git/objects/info/ (stored 0%)\n",
            "  adding: .git/objects/pack/ (stored 0%)\n",
            "  adding: .git/objects/pack/pack-83981d0a24358a2db764b81e7636df0d3acd0e10.pack (stored 0%)\n",
            "  adding: .git/objects/pack/pack-83981d0a24358a2db764b81e7636df0d3acd0e10.idx (deflated 84%)\n",
            "  adding: .git/HEAD (stored 0%)\n",
            "  adding: .git/hooks/ (stored 0%)\n",
            "  adding: .git/hooks/post-update.sample (deflated 27%)\n",
            "  adding: .git/hooks/pre-commit.sample (deflated 45%)\n",
            "  adding: .git/hooks/fsmonitor-watchman.sample (deflated 53%)\n",
            "  adding: .git/hooks/commit-msg.sample (deflated 44%)\n",
            "  adding: .git/hooks/pre-merge-commit.sample (deflated 39%)\n",
            "  adding: .git/hooks/pre-applypatch.sample (deflated 38%)\n",
            "  adding: .git/hooks/prepare-commit-msg.sample (deflated 50%)\n",
            "  adding: .git/hooks/update.sample (deflated 68%)\n",
            "  adding: .git/hooks/pre-rebase.sample (deflated 59%)\n",
            "  adding: .git/hooks/pre-push.sample (deflated 50%)\n",
            "  adding: .git/hooks/applypatch-msg.sample (deflated 42%)\n",
            "  adding: .git/hooks/pre-receive.sample (deflated 40%)\n",
            "  adding: __pycache__/ (stored 0%)\n",
            "  adding: __pycache__/visualization.cpython-36.pyc (deflated 50%)\n",
            "  adding: __pycache__/cm.cpython-36.pyc (deflated 39%)\n",
            "  adding: __pycache__/evaluation.cpython-36.pyc (deflated 54%)\n",
            "  adding: __pycache__/dataset.cpython-36.pyc (deflated 53%)\n",
            "  adding: visualization.py (deflated 66%)\n",
            "  adding: dataset.py (deflated 73%)\n"
          ],
          "name": "stdout"
        }
      ]
    },
    {
      "cell_type": "code",
      "metadata": {
        "id": "KZYrQVUVLiG4"
      },
      "source": [
        ""
      ],
      "execution_count": null,
      "outputs": []
    }
  ]
}